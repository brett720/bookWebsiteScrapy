{
 "cells": [
  {
   "cell_type": "code",
   "execution_count": 1,
   "metadata": {},
   "outputs": [],
   "source": [
    "import json"
   ]
  },
  {
   "cell_type": "code",
   "execution_count": 36,
   "metadata": {},
   "outputs": [],
   "source": [
    "file = open('commentSpider/comments.json', encoding='utf-8')\n",
    "data = []\n",
    "for line in file:\n",
    "    curr = json.loads(line)\n",
    "    data.append(curr)\n",
    "    "
   ]
  },
  {
   "cell_type": "code",
   "execution_count": 37,
   "metadata": {},
   "outputs": [],
   "source": [
    "from datetime import datetime, timedelta\n",
    "def convertTimeFormat(currTime, postTime):\n",
    "    time = datetime.strptime(currTime,  \"%Y-%m-%d %H:%M:%S.%f\").replace(microsecond=0)\n",
    "    \n",
    "    #print(postTime)\n",
    "    \n",
    "    number = ''.join(c for c in postTime if c.isdigit())\n",
    "    if('刚刚' in postTime):\n",
    "        return time\n",
    "    if('分钟' in postTime):\n",
    "        return (time - timedelta(minutes=int(number)))\n",
    "    if('小时' in postTime):\n",
    "        return (time - timedelta(hours=int(number)))\n",
    "    if('天' in postTime):\n",
    "        return (time - timedelta(days=int(number)))\n",
    "    if('月 in postTime'):\n",
    "        return (time - timedelta(days=int(number) * 30))\n",
    "    if('年' in postTime):\n",
    "        return (time - timedelta(days=int(number) * 365))\n",
    "    print('Cannot parse time %s and %s', currTime, postTime)\n",
    "    return time\n",
    "\n",
    "for index in range(len(data)):\n",
    "    data[index]['time'] = convertTimeFormat(data[index]['currTime'], data[index]['postTime'])\n",
    "    data[index]['rating'] = int(data[index]['rating']) * 2\n",
    "    "
   ]
  },
  {
   "cell_type": "code",
   "execution_count": 39,
   "metadata": {},
   "outputs": [
    {
     "data": {
      "text/plain": [
       "{'bookID': '120902',\n",
       " 'cid': '5b178e5b95907e896609fb32',\n",
       " 'commentList': '穿成五代十国的杨行密之子，然后就是老一套斗诗扬名，然后掌军，练兵最后掌权开始体制改革，最后平推。这些都中规中矩没什么亮点，这本书唯二的亮点，一个是史书说主角残暴好杀被推翻，其实不是的，主角本身是有才能的，但是被推翻了所以被污蔑。这个主角慢慢发现“历史真相”的过程挺有意思的。还有就是这是我看这么多年秦朝之后的历史文里面 唯一一本把封王的人喊作  大王  的小说。要知道王爷作为一种北京味十足的称呼只有在清朝的时候才开始流行的。之前一直是把封王的喊作 大王  。但是现在的小说很少有注意到的 ',\n",
       " 'currTime': '2018-06-06 00:36:57.401204',\n",
       " 'postTime': '3分钟前',\n",
       " 'rating': 4,\n",
       " 'time': datetime.datetime(2018, 6, 6, 0, 33, 57),\n",
       " 'uid': '697704',\n",
       " 'username': 'wiskly'}"
      ]
     },
     "execution_count": 39,
     "metadata": {},
     "output_type": "execute_result"
    }
   ],
   "source": [
    "data[0]"
   ]
  },
  {
   "cell_type": "code",
   "execution_count": 46,
   "metadata": {},
   "outputs": [],
   "source": [
    "uniqData = [dict(t) for t in set([tuple(d.items()) for d in data])]"
   ]
  },
  {
   "cell_type": "code",
   "execution_count": 56,
   "metadata": {},
   "outputs": [
    {
     "ename": "KeyError",
     "evalue": "'9097'",
     "output_type": "error",
     "traceback": [
      "\u001b[1;31m---------------------------------------------------------------------------\u001b[0m",
      "\u001b[1;31mKeyError\u001b[0m                                  Traceback (most recent call last)",
      "\u001b[1;32m<ipython-input-56-80c6bc628b7e>\u001b[0m in \u001b[0;36m<module>\u001b[1;34m()\u001b[0m\n\u001b[0;32m      3\u001b[0m \u001b[1;32mfor\u001b[0m \u001b[0mcomment\u001b[0m \u001b[1;32min\u001b[0m \u001b[0muniqData\u001b[0m\u001b[1;33m[\u001b[0m\u001b[1;33m:\u001b[0m\u001b[1;36m1\u001b[0m\u001b[1;33m]\u001b[0m\u001b[1;33m:\u001b[0m\u001b[1;33m\u001b[0m\u001b[0m\n\u001b[0;32m      4\u001b[0m     \u001b[0mkey\u001b[0m \u001b[1;33m=\u001b[0m \u001b[0mcomment\u001b[0m\u001b[1;33m[\u001b[0m\u001b[1;34m'bookID'\u001b[0m\u001b[1;33m]\u001b[0m\u001b[1;33m\u001b[0m\u001b[0m\n\u001b[1;32m----> 5\u001b[1;33m     \u001b[1;32mif\u001b[0m \u001b[0mbidToRating\u001b[0m\u001b[1;33m[\u001b[0m\u001b[0mkey\u001b[0m\u001b[1;33m]\u001b[0m \u001b[1;32mis\u001b[0m \u001b[1;32mNone\u001b[0m\u001b[1;33m:\u001b[0m\u001b[1;33m\u001b[0m\u001b[0m\n\u001b[0m\u001b[0;32m      6\u001b[0m         \u001b[0mbidToRating\u001b[0m\u001b[1;33m[\u001b[0m\u001b[0mkey\u001b[0m\u001b[1;33m]\u001b[0m \u001b[1;33m=\u001b[0m \u001b[1;33m{\u001b[0m\u001b[1;33m}\u001b[0m\u001b[1;33m\u001b[0m\u001b[0m\n\u001b[0;32m      7\u001b[0m         \u001b[0mbidToRating\u001b[0m\u001b[1;33m[\u001b[0m\u001b[0mkey\u001b[0m\u001b[1;33m]\u001b[0m\u001b[1;33m[\u001b[0m\u001b[1;34m'cid'\u001b[0m\u001b[1;33m]\u001b[0m \u001b[1;33m=\u001b[0m \u001b[1;33m[\u001b[0m\u001b[1;33m]\u001b[0m\u001b[1;33m\u001b[0m\u001b[0m\n",
      "\u001b[1;31mKeyError\u001b[0m: '9097'"
     ]
    }
   ],
   "source": [
    "import collections\n",
    "\n",
    "bidToRating = collections.defualtdict(dict)\n",
    "\n",
    "for comment in uniqData[:1]:\n",
    "    key = comment['bookID']\n",
    "    \n",
    "    bidToRating[key]\n",
    "    if bidToRating[key] is None:\n",
    "        bidToRating[key] = {}\n",
    "        bidToRating[key]['cid'] = []\n",
    "    if bidToRating[key]['cid'] is not []:\n",
    "        bidToRating[key]['cid'] = [] \n",
    "    "
   ]
  },
  {
   "cell_type": "code",
   "execution_count": 54,
   "metadata": {},
   "outputs": [
    {
     "data": {
      "text/plain": [
       "{'9097': '9097'}"
      ]
     },
     "execution_count": 54,
     "metadata": {},
     "output_type": "execute_result"
    }
   ],
   "source": [
    "bidToRating"
   ]
  },
  {
   "cell_type": "code",
   "execution_count": null,
   "metadata": {},
   "outputs": [],
   "source": []
  }
 ],
 "metadata": {
  "kernelspec": {
   "display_name": "Python 3",
   "language": "python",
   "name": "python3"
  },
  "language_info": {
   "codemirror_mode": {
    "name": "ipython",
    "version": 3
   },
   "file_extension": ".py",
   "mimetype": "text/x-python",
   "name": "python",
   "nbconvert_exporter": "python",
   "pygments_lexer": "ipython3",
   "version": "3.6.4"
  }
 },
 "nbformat": 4,
 "nbformat_minor": 2
}
