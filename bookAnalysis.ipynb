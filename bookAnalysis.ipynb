{
 "cells": [
  {
   "cell_type": "code",
   "execution_count": 1,
   "metadata": {},
   "outputs": [],
   "source": [
    "import json\n",
    "\n"
   ]
  },
  {
   "cell_type": "code",
   "execution_count": 6,
   "metadata": {},
   "outputs": [],
   "source": [
    "file = open('commentSpider/comments.json', encoding='utf-8')\n",
    "data = []\n",
    "for line in file:\n",
    "    curr = json.loads(line)\n",
    "    data.append(curr)\n",
    "    "
   ]
  },
  {
   "cell_type": "code",
   "execution_count": 8,
   "metadata": {},
   "outputs": [
    {
     "data": {
      "text/plain": [
       "[{'bookID': '120902',\n",
       "  'cid': '5b178e5b95907e896609fb32',\n",
       "  'commentList': '穿成五代十国的杨行密之子，然后就是老一套斗诗扬名，然后掌军，练兵最后掌权开始体制改革，最后平推。这些都中规中矩没什么亮点，这本书唯二的亮点，一个是史书说主角残暴好杀被推翻，其实不是的，主角本身是有才能的，但是被推翻了所以被污蔑。这个主角慢慢发现“历史真相”的过程挺有意思的。还有就是这是我看这么多年秦朝之后的历史文里面 唯一一本把封王的人喊作  大王  的小说。要知道王爷作为一种北京味十足的称呼只有在清朝的时候才开始流行的。之前一直是把封王的喊作 大王  。但是现在的小说很少有注意到的 ',\n",
       "  'currTime': '2018-06-06 00:36:57.401204',\n",
       "  'postTime': '3分钟前',\n",
       "  'rating': '2',\n",
       "  'uid': '697704',\n",
       "  'username': 'wiskly'},\n",
       " {'bookID': '146328',\n",
       "  'cid': '5b178d5995907e896609fb26',\n",
       "  'commentList': '流水账 ',\n",
       "  'currTime': '2018-06-06 00:36:57.401204',\n",
       "  'postTime': '7分钟前',\n",
       "  'rating': '1',\n",
       "  'uid': '1032588',\n",
       "  'username': '尖尖碰碰拳'}]"
      ]
     },
     "execution_count": 8,
     "metadata": {},
     "output_type": "execute_result"
    }
   ],
   "source": []
  },
  {
   "cell_type": "code",
   "execution_count": 27,
   "metadata": {},
   "outputs": [],
   "source": [
    "from datetime import datetime, timedelta\n",
    "def convertTimeFormat(currTime, postTime):\n",
    "    time = datetime.strptime(currTime,  \"%Y-%m-%d %H:%M:%S.%f\").replace(microsecond=0)\n",
    "    \n",
    "    #print(postTime)\n",
    "    \n",
    "    number = ''.join(c for c in postTime if c.isdigit())\n",
    "    if('刚刚' in postTime):\n",
    "        return time\n",
    "    if('分钟' in postTime):\n",
    "        return (time - timedelta(minutes=int(number)))\n",
    "    if('小时' in postTime):\n",
    "        return (time - timedelta(hours=int(number)))\n",
    "    if('天' in postTime):\n",
    "        return (time - timedelta(days=int(number)))\n",
    "    if('月 in postTime'):\n",
    "        return (time - timedelta(days=int(number) * 30))\n",
    "    if('年' in postTime):\n",
    "        return (time - timedelta(days=int(number) * 365))\n",
    "    print('Cannot parse time %s and %s', currTime, postTime)\n",
    "    return time\n",
    "\n",
    "for index in range(len(data)):\n",
    "    data[index]['time'] = convertTimeFormat(data[index]['currTime'], data[index]['postTime'])\n",
    "    "
   ]
  },
  {
   "cell_type": "code",
   "execution_count": null,
   "metadata": {},
   "outputs": [],
   "source": []
  },
  {
   "cell_type": "code",
   "execution_count": null,
   "metadata": {},
   "outputs": [],
   "source": []
  }
 ],
 "metadata": {
  "kernelspec": {
   "display_name": "Python 3",
   "language": "python",
   "name": "python3"
  },
  "language_info": {
   "codemirror_mode": {
    "name": "ipython",
    "version": 3
   },
   "file_extension": ".py",
   "mimetype": "text/x-python",
   "name": "python",
   "nbconvert_exporter": "python",
   "pygments_lexer": "ipython3",
   "version": "3.6.4"
  }
 },
 "nbformat": 4,
 "nbformat_minor": 2
}
